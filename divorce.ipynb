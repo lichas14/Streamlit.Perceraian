{
 "cells": [
  {
   "cell_type": "code",
   "execution_count": 1,
   "metadata": {},
   "outputs": [],
   "source": [
    "import numpy as np\n",
    "import pandas as pd\n",
    "from sklearn.model_selection import train_test_split\n",
    "from sklearn.preprocessing import StandardScaler\n",
    "from sklearn import svm\n",
    "from sklearn.metrics import accuracy_score"
   ]
  },
  {
   "cell_type": "markdown",
   "metadata": {},
   "source": []
  },
  {
   "cell_type": "code",
   "execution_count": 2,
   "metadata": {},
   "outputs": [],
   "source": [
    "divorce_dataset = pd.read_csv('divorce_data.csv',sep=';')"
   ]
  },
  {
   "cell_type": "code",
   "execution_count": 3,
   "metadata": {},
   "outputs": [
    {
     "data": {
      "text/html": [
       "<div>\n",
       "<style scoped>\n",
       "    .dataframe tbody tr th:only-of-type {\n",
       "        vertical-align: middle;\n",
       "    }\n",
       "\n",
       "    .dataframe tbody tr th {\n",
       "        vertical-align: top;\n",
       "    }\n",
       "\n",
       "    .dataframe thead th {\n",
       "        text-align: right;\n",
       "    }\n",
       "</style>\n",
       "<table border=\"1\" class=\"dataframe\">\n",
       "  <thead>\n",
       "    <tr style=\"text-align: right;\">\n",
       "      <th></th>\n",
       "      <th>Q1</th>\n",
       "      <th>Q2</th>\n",
       "      <th>Q3</th>\n",
       "      <th>Q4</th>\n",
       "      <th>Q5</th>\n",
       "      <th>Q6</th>\n",
       "      <th>Q7</th>\n",
       "      <th>Q8</th>\n",
       "      <th>Q9</th>\n",
       "      <th>Q10</th>\n",
       "      <th>...</th>\n",
       "      <th>Q46</th>\n",
       "      <th>Q47</th>\n",
       "      <th>Q48</th>\n",
       "      <th>Q49</th>\n",
       "      <th>Q50</th>\n",
       "      <th>Q51</th>\n",
       "      <th>Q52</th>\n",
       "      <th>Q53</th>\n",
       "      <th>Q54</th>\n",
       "      <th>Divorce</th>\n",
       "    </tr>\n",
       "  </thead>\n",
       "  <tbody>\n",
       "    <tr>\n",
       "      <th>0</th>\n",
       "      <td>2</td>\n",
       "      <td>2</td>\n",
       "      <td>4</td>\n",
       "      <td>1</td>\n",
       "      <td>0</td>\n",
       "      <td>0</td>\n",
       "      <td>0</td>\n",
       "      <td>0</td>\n",
       "      <td>0</td>\n",
       "      <td>0</td>\n",
       "      <td>...</td>\n",
       "      <td>2</td>\n",
       "      <td>1</td>\n",
       "      <td>3</td>\n",
       "      <td>3</td>\n",
       "      <td>3</td>\n",
       "      <td>2</td>\n",
       "      <td>3</td>\n",
       "      <td>2</td>\n",
       "      <td>1</td>\n",
       "      <td>1</td>\n",
       "    </tr>\n",
       "    <tr>\n",
       "      <th>1</th>\n",
       "      <td>4</td>\n",
       "      <td>4</td>\n",
       "      <td>4</td>\n",
       "      <td>4</td>\n",
       "      <td>4</td>\n",
       "      <td>0</td>\n",
       "      <td>0</td>\n",
       "      <td>4</td>\n",
       "      <td>4</td>\n",
       "      <td>4</td>\n",
       "      <td>...</td>\n",
       "      <td>2</td>\n",
       "      <td>2</td>\n",
       "      <td>3</td>\n",
       "      <td>4</td>\n",
       "      <td>4</td>\n",
       "      <td>4</td>\n",
       "      <td>4</td>\n",
       "      <td>2</td>\n",
       "      <td>2</td>\n",
       "      <td>1</td>\n",
       "    </tr>\n",
       "    <tr>\n",
       "      <th>2</th>\n",
       "      <td>2</td>\n",
       "      <td>2</td>\n",
       "      <td>2</td>\n",
       "      <td>2</td>\n",
       "      <td>1</td>\n",
       "      <td>3</td>\n",
       "      <td>2</td>\n",
       "      <td>1</td>\n",
       "      <td>1</td>\n",
       "      <td>2</td>\n",
       "      <td>...</td>\n",
       "      <td>3</td>\n",
       "      <td>2</td>\n",
       "      <td>3</td>\n",
       "      <td>1</td>\n",
       "      <td>1</td>\n",
       "      <td>1</td>\n",
       "      <td>2</td>\n",
       "      <td>2</td>\n",
       "      <td>2</td>\n",
       "      <td>1</td>\n",
       "    </tr>\n",
       "    <tr>\n",
       "      <th>3</th>\n",
       "      <td>3</td>\n",
       "      <td>2</td>\n",
       "      <td>3</td>\n",
       "      <td>2</td>\n",
       "      <td>3</td>\n",
       "      <td>3</td>\n",
       "      <td>3</td>\n",
       "      <td>3</td>\n",
       "      <td>3</td>\n",
       "      <td>3</td>\n",
       "      <td>...</td>\n",
       "      <td>2</td>\n",
       "      <td>2</td>\n",
       "      <td>3</td>\n",
       "      <td>3</td>\n",
       "      <td>3</td>\n",
       "      <td>3</td>\n",
       "      <td>2</td>\n",
       "      <td>2</td>\n",
       "      <td>2</td>\n",
       "      <td>1</td>\n",
       "    </tr>\n",
       "    <tr>\n",
       "      <th>4</th>\n",
       "      <td>2</td>\n",
       "      <td>2</td>\n",
       "      <td>1</td>\n",
       "      <td>1</td>\n",
       "      <td>1</td>\n",
       "      <td>1</td>\n",
       "      <td>0</td>\n",
       "      <td>0</td>\n",
       "      <td>0</td>\n",
       "      <td>0</td>\n",
       "      <td>...</td>\n",
       "      <td>2</td>\n",
       "      <td>1</td>\n",
       "      <td>2</td>\n",
       "      <td>3</td>\n",
       "      <td>2</td>\n",
       "      <td>2</td>\n",
       "      <td>2</td>\n",
       "      <td>1</td>\n",
       "      <td>0</td>\n",
       "      <td>1</td>\n",
       "    </tr>\n",
       "  </tbody>\n",
       "</table>\n",
       "<p>5 rows × 55 columns</p>\n",
       "</div>"
      ],
      "text/plain": [
       "   Q1  Q2  Q3  Q4  Q5  Q6  Q7  Q8  Q9  Q10  ...  Q46  Q47  Q48  Q49  Q50  Q51  \\\n",
       "0   2   2   4   1   0   0   0   0   0    0  ...    2    1    3    3    3    2   \n",
       "1   4   4   4   4   4   0   0   4   4    4  ...    2    2    3    4    4    4   \n",
       "2   2   2   2   2   1   3   2   1   1    2  ...    3    2    3    1    1    1   \n",
       "3   3   2   3   2   3   3   3   3   3    3  ...    2    2    3    3    3    3   \n",
       "4   2   2   1   1   1   1   0   0   0    0  ...    2    1    2    3    2    2   \n",
       "\n",
       "   Q52  Q53  Q54  Divorce  \n",
       "0    3    2    1        1  \n",
       "1    4    2    2        1  \n",
       "2    2    2    2        1  \n",
       "3    2    2    2        1  \n",
       "4    2    1    0        1  \n",
       "\n",
       "[5 rows x 55 columns]"
      ]
     },
     "execution_count": 3,
     "metadata": {},
     "output_type": "execute_result"
    }
   ],
   "source": [
    "divorce_dataset.head()"
   ]
  },
  {
   "cell_type": "code",
   "execution_count": 4,
   "metadata": {},
   "outputs": [
    {
     "data": {
      "text/plain": [
       "(170, 55)"
      ]
     },
     "execution_count": 4,
     "metadata": {},
     "output_type": "execute_result"
    }
   ],
   "source": [
    "divorce_dataset.shape"
   ]
  },
  {
   "cell_type": "code",
   "execution_count": 5,
   "metadata": {},
   "outputs": [
    {
     "data": {
      "text/plain": [
       "0    86\n",
       "1    84\n",
       "Name: Divorce, dtype: int64"
      ]
     },
     "execution_count": 5,
     "metadata": {},
     "output_type": "execute_result"
    }
   ],
   "source": [
    "divorce_dataset['Divorce'].value_counts()"
   ]
  },
  {
   "cell_type": "code",
   "execution_count": 6,
   "metadata": {},
   "outputs": [],
   "source": [
    "X = divorce_dataset.drop (columns='Divorce', axis=1)\n",
    "Y = divorce_dataset['Divorce']"
   ]
  },
  {
   "cell_type": "code",
   "execution_count": 7,
   "metadata": {},
   "outputs": [
    {
     "name": "stdout",
     "output_type": "stream",
     "text": [
      "     Q1  Q2  Q3  Q4  Q5  Q6  Q7  Q8  Q9  Q10  ...  Q45  Q46  Q47  Q48  Q49  \\\n",
      "0     2   2   4   1   0   0   0   0   0    0  ...    3    2    1    3    3   \n",
      "1     4   4   4   4   4   0   0   4   4    4  ...    2    2    2    3    4   \n",
      "2     2   2   2   2   1   3   2   1   1    2  ...    2    3    2    3    1   \n",
      "3     3   2   3   2   3   3   3   3   3    3  ...    3    2    2    3    3   \n",
      "4     2   2   1   1   1   1   0   0   0    0  ...    2    2    1    2    3   \n",
      "..   ..  ..  ..  ..  ..  ..  ..  ..  ..  ...  ...  ...  ...  ...  ...  ...   \n",
      "165   0   0   0   0   0   0   0   0   0    0  ...    0    1    0    4    1   \n",
      "166   0   0   0   0   0   0   0   0   0    0  ...    3    4    1    2    2   \n",
      "167   1   1   0   0   0   0   0   0   0    1  ...    2    3    0    2    0   \n",
      "168   0   0   0   0   0   0   0   0   0    0  ...    4    3    3    2    2   \n",
      "169   0   0   0   0   0   0   0   1   0    0  ...    1    3    4    4    0   \n",
      "\n",
      "     Q50  Q51  Q52  Q53  Q54  \n",
      "0      3    2    3    2    1  \n",
      "1      4    4    4    2    2  \n",
      "2      1    1    2    2    2  \n",
      "3      3    3    2    2    2  \n",
      "4      2    2    2    1    0  \n",
      "..   ...  ...  ...  ...  ...  \n",
      "165    1    4    2    2    2  \n",
      "166    2    2    3    2    2  \n",
      "167    1    1    3    0    0  \n",
      "168    3    2    4    3    1  \n",
      "169    1    3    3    3    1  \n",
      "\n",
      "[170 rows x 54 columns]\n"
     ]
    }
   ],
   "source": [
    "print(X)"
   ]
  },
  {
   "cell_type": "code",
   "execution_count": 8,
   "metadata": {},
   "outputs": [
    {
     "name": "stdout",
     "output_type": "stream",
     "text": [
      "0      1\n",
      "1      1\n",
      "2      1\n",
      "3      1\n",
      "4      1\n",
      "      ..\n",
      "165    0\n",
      "166    0\n",
      "167    0\n",
      "168    0\n",
      "169    0\n",
      "Name: Divorce, Length: 170, dtype: int64\n"
     ]
    }
   ],
   "source": [
    "print(Y)"
   ]
  },
  {
   "cell_type": "code",
   "execution_count": 9,
   "metadata": {},
   "outputs": [],
   "source": [
    "scaler = StandardScaler()"
   ]
  },
  {
   "cell_type": "code",
   "execution_count": 10,
   "metadata": {},
   "outputs": [
    {
     "data": {
      "text/plain": [
       "StandardScaler()"
      ]
     },
     "execution_count": 10,
     "metadata": {},
     "output_type": "execute_result"
    }
   ],
   "source": [
    "scaler.fit(X)"
   ]
  },
  {
   "cell_type": "code",
   "execution_count": 11,
   "metadata": {},
   "outputs": [],
   "source": [
    "standarized_data = scaler.transform(X)"
   ]
  },
  {
   "cell_type": "code",
   "execution_count": 12,
   "metadata": {},
   "outputs": [
    {
     "name": "stdout",
     "output_type": "stream",
     "text": [
      "[[ 0.13777162  0.23700896  1.58388339 ...  0.32764372 -0.16065589\n",
      "  -0.60850749]\n",
      " [ 1.37046505  1.60282332  1.58388339 ...  1.00690508 -0.16065589\n",
      "  -0.00707567]\n",
      " [ 0.13777162  0.23700896  0.16672457 ... -0.35161765 -0.16065589\n",
      "  -0.00707567]\n",
      " ...\n",
      " [-0.4785751  -0.44589822 -1.25043425 ...  0.32764372 -1.49292424\n",
      "  -1.20993931]\n",
      " [-1.09492181 -1.12880539 -1.25043425 ...  1.00690508  0.50547829\n",
      "  -0.60850749]\n",
      " [-1.09492181 -1.12880539 -1.25043425 ...  0.32764372  0.50547829\n",
      "  -0.60850749]]\n"
     ]
    }
   ],
   "source": [
    "print(standarized_data)"
   ]
  },
  {
   "cell_type": "code",
   "execution_count": 13,
   "metadata": {},
   "outputs": [],
   "source": [
    "X = standarized_data\n",
    "Y = divorce_dataset['Divorce']"
   ]
  },
  {
   "cell_type": "code",
   "execution_count": 14,
   "metadata": {},
   "outputs": [
    {
     "name": "stdout",
     "output_type": "stream",
     "text": [
      "[[ 0.13777162  0.23700896  1.58388339 ...  0.32764372 -0.16065589\n",
      "  -0.60850749]\n",
      " [ 1.37046505  1.60282332  1.58388339 ...  1.00690508 -0.16065589\n",
      "  -0.00707567]\n",
      " [ 0.13777162  0.23700896  0.16672457 ... -0.35161765 -0.16065589\n",
      "  -0.00707567]\n",
      " ...\n",
      " [-0.4785751  -0.44589822 -1.25043425 ...  0.32764372 -1.49292424\n",
      "  -1.20993931]\n",
      " [-1.09492181 -1.12880539 -1.25043425 ...  1.00690508  0.50547829\n",
      "  -0.60850749]\n",
      " [-1.09492181 -1.12880539 -1.25043425 ...  0.32764372  0.50547829\n",
      "  -0.60850749]]\n",
      "0      1\n",
      "1      1\n",
      "2      1\n",
      "3      1\n",
      "4      1\n",
      "      ..\n",
      "165    0\n",
      "166    0\n",
      "167    0\n",
      "168    0\n",
      "169    0\n",
      "Name: Divorce, Length: 170, dtype: int64\n"
     ]
    }
   ],
   "source": [
    "print(X)\n",
    "print(Y)"
   ]
  },
  {
   "cell_type": "code",
   "execution_count": 15,
   "metadata": {},
   "outputs": [],
   "source": [
    "X_train, X_test, Y_train, Y_test = train_test_split(X, Y, test_size= 0.2, stratify=Y, random_state=2)"
   ]
  },
  {
   "cell_type": "code",
   "execution_count": 16,
   "metadata": {},
   "outputs": [
    {
     "name": "stdout",
     "output_type": "stream",
     "text": [
      "(170, 54) (136, 54) (34, 54)\n"
     ]
    }
   ],
   "source": [
    "print(X.shape, X_train.shape, X_test.shape)"
   ]
  },
  {
   "cell_type": "code",
   "execution_count": 17,
   "metadata": {},
   "outputs": [],
   "source": [
    "classifier = svm.SVC(kernel='linear')"
   ]
  },
  {
   "cell_type": "code",
   "execution_count": 18,
   "metadata": {},
   "outputs": [
    {
     "data": {
      "text/plain": [
       "SVC(kernel='linear')"
      ]
     },
     "execution_count": 18,
     "metadata": {},
     "output_type": "execute_result"
    }
   ],
   "source": [
    "classifier.fit(X_train, Y_train)"
   ]
  },
  {
   "cell_type": "code",
   "execution_count": 19,
   "metadata": {},
   "outputs": [],
   "source": [
    "X_train_prediction = classifier.predict(X_train)\n",
    "training_data_accuracy = accuracy_score(X_train_prediction, Y_train)"
   ]
  },
  {
   "cell_type": "code",
   "execution_count": 20,
   "metadata": {},
   "outputs": [
    {
     "name": "stdout",
     "output_type": "stream",
     "text": [
      "Akurasi data training adalah =  1.0\n"
     ]
    }
   ],
   "source": [
    "print('Akurasi data training adalah = ', training_data_accuracy)"
   ]
  },
  {
   "cell_type": "code",
   "execution_count": 21,
   "metadata": {},
   "outputs": [],
   "source": [
    "X_test_prediction = classifier.predict(X_test)\n",
    "test_data_accuracy = accuracy_score(X_test_prediction, Y_test)"
   ]
  },
  {
   "cell_type": "code",
   "execution_count": 22,
   "metadata": {},
   "outputs": [
    {
     "name": "stdout",
     "output_type": "stream",
     "text": [
      "Akurasi data testing adalah =  1.0\n"
     ]
    }
   ],
   "source": [
    "print('Akurasi data testing adalah = ', test_data_accuracy)"
   ]
  },
  {
   "cell_type": "code",
   "execution_count": 23,
   "metadata": {},
   "outputs": [
    {
     "name": "stdout",
     "output_type": "stream",
     "text": [
      "[[ 0.13777162  0.23700896  1.58388339 -0.32159088 -0.94704019 -0.82879176\n",
      "  -0.55143948 -0.94235692 -0.93912449 -1.1122726  -0.41908573 -1.12880539\n",
      "  -0.56665973 -0.38081405 -1.04548435 -0.31768615 -1.02682706 -0.97198758\n",
      "  -1.00304568 -0.29609248 -0.95881105 -0.86465095 -0.87834928 -1.00787414\n",
      "  -1.06806605 -0.99479171 -0.96366543 -0.89232217 -0.94110228 -0.3294143\n",
      "  -0.68420117 -0.03634082 -0.45275714  0.06151149 -0.90950926 -0.33789385\n",
      "  -0.05156954 -0.49651823  0.5318177   0.63069239  0.00342657 -0.73838724\n",
      "  -1.26880948  0.03502847  0.36186834 -0.4042721  -0.80306832  0.22823984\n",
      "   0.40981559  0.40728629 -0.37919669  0.32764372 -0.16065589 -0.60850749]]\n",
      "[1]\n",
      "pasangan memilih perceraian\n"
     ]
    },
    {
     "name": "stderr",
     "output_type": "stream",
     "text": [
      "c:\\Users\\calleb\\anaconda3\\lib\\site-packages\\sklearn\\base.py:450: UserWarning: X does not have valid feature names, but StandardScaler was fitted with feature names\n",
      "  warnings.warn(\n"
     ]
    }
   ],
   "source": [
    "input_data = (2,\t2,\t4,\t1,\t0,\t0,\t0,\t0,\t0,\t0,\t1,\t0,\t1,\t1,\t0,\t1,\t0,\t0,\t0,\t1,\t0,\t0,\t0,\t0,\t0,\t0,\t0,\t0,\t0,\t1,\t1,\t2,\t1,\t2,\t0,\t1,\t2,\t1,\t3,\t3,\t2,\t1,\t1,\t2,\t3,\t2,\t1,\t3,\t3,\t3,\t2,\t3,\t2,\t1,\n",
    ")\n",
    "\n",
    "input_data_as_numpy_array = np.array(input_data)\n",
    "\n",
    "input_data_reshape = input_data_as_numpy_array.reshape(1,-1)\n",
    "\n",
    "std_data = scaler.transform(input_data_reshape)\n",
    "print(std_data)\n",
    "\n",
    "prediction = classifier.predict(std_data)\n",
    "print(prediction)\n",
    "\n",
    "if (prediction[0] == 0):\n",
    "    print('pasangan tidak memilih perceraian')\n",
    "else :\n",
    "    print('pasangan memilih perceraian')"
   ]
  },
  {
   "cell_type": "code",
   "execution_count": 24,
   "metadata": {},
   "outputs": [],
   "source": [
    "import pickle"
   ]
  },
  {
   "cell_type": "code",
   "execution_count": 25,
   "metadata": {},
   "outputs": [],
   "source": [
    "filename = 'divorece_model.sav'\n",
    "pickle.dump(classifier, open(filename, 'wb'))"
   ]
  }
 ],
 "metadata": {
  "kernelspec": {
   "display_name": "base",
   "language": "python",
   "name": "python3"
  },
  "language_info": {
   "codemirror_mode": {
    "name": "ipython",
    "version": 3
   },
   "file_extension": ".py",
   "mimetype": "text/x-python",
   "name": "python",
   "nbconvert_exporter": "python",
   "pygments_lexer": "ipython3",
   "version": "3.9.13"
  },
  "orig_nbformat": 4,
  "vscode": {
   "interpreter": {
    "hash": "854ce0dd736bf7ecce24c4991add5626bd0322ef3b7ccd75a807a6c30ab8f820"
   }
  }
 },
 "nbformat": 4,
 "nbformat_minor": 2
}
